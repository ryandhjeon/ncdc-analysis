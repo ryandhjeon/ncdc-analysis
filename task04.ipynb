{
 "cells": [
  {
   "cell_type": "markdown",
   "metadata": {},
   "source": [
    "# Task04: Analysis on Out_task00 data"
   ]
  },
  {
   "cell_type": "markdown",
   "metadata": {},
   "source": [
    "__Goal__ : Which station reported the highest or lowest temperature each year??"
   ]
  },
  {
   "cell_type": "code",
   "execution_count": 1,
   "metadata": {},
   "outputs": [],
   "source": [
    "import pandas as pd\n",
    "import numpy as np\n",
    "import seaborn as sns\n",
    "import matplotlib.pyplot as plt"
   ]
  },
  {
   "cell_type": "markdown",
   "metadata": {},
   "source": [
    "__Read and clean data from task00__"
   ]
  },
  {
   "cell_type": "code",
   "execution_count": null,
   "metadata": {},
   "outputs": [],
   "source": [
    "df = pd.read_csv(\"./outputs/out_task00\", sep=\"\\t|,\", engine=\"python\", skipfooter=1)"
   ]
  },
  {
   "cell_type": "code",
   "execution_count": null,
   "metadata": {},
   "outputs": [],
   "source": [
    "df.columns = ['id', 'station_id', 'year', 'month', 'temp']\n",
    "col_names = df.columns\n",
    "\n",
    "for col in col_names:\n",
    "    df[col] = df[col].map(lambda x: str(x).lstrip('[').rstrip(']')).astype(float)\n",
    "\n",
    "df = df.astype({'id': int, 'station_id': int, 'year': int, 'month' : int})    "
   ]
  },
  {
   "cell_type": "code",
   "execution_count": null,
   "metadata": {},
   "outputs": [],
   "source": [
    "new_df = df[['id','year','temp']]\n",
    "new_df.head()"
   ]
  },
  {
   "cell_type": "markdown",
   "metadata": {},
   "source": [
    "__Check for any missing values__"
   ]
  },
  {
   "cell_type": "code",
   "execution_count": null,
   "metadata": {},
   "outputs": [],
   "source": [
    "new_df.isnull().values.any()"
   ]
  },
  {
   "cell_type": "markdown",
   "metadata": {},
   "source": [
    "## Maximum temp"
   ]
  },
  {
   "cell_type": "code",
   "execution_count": null,
   "metadata": {},
   "outputs": [],
   "source": [
    "table_max = pd.pivot_table(new_df, values='temp', index=['id'],\n",
    "                    columns=['year'], aggfunc=np.max, fill_value=0)\n",
    "table_max"
   ]
  },
  {
   "cell_type": "code",
   "execution_count": null,
   "metadata": {},
   "outputs": [],
   "source": [
    "max_index = table_max.idxmax()\n",
    "max_index_df = max_index.to_frame()"
   ]
  },
  {
   "cell_type": "code",
   "execution_count": null,
   "metadata": {},
   "outputs": [],
   "source": [
    "max_temp = table_max.max()\n",
    "max_temp_df = max_temp.to_frame()"
   ]
  },
  {
   "cell_type": "code",
   "execution_count": null,
   "metadata": {},
   "outputs": [],
   "source": [
    "result_max = pd.concat([max_index_df, max_temp_df], axis=1)\n",
    "result_max['Group'] = 'Max'\n",
    "result_max.columns = ['id', 'temp', 'Group']\n",
    "result_max"
   ]
  },
  {
   "cell_type": "markdown",
   "metadata": {},
   "source": [
    "## Minimum temp"
   ]
  },
  {
   "cell_type": "code",
   "execution_count": null,
   "metadata": {},
   "outputs": [],
   "source": [
    "table_min = pd.pivot_table(new_df, values='temp', index=['id'],\n",
    "                    columns=['year'], aggfunc=np.min, fill_value=0)\n",
    "table_min"
   ]
  },
  {
   "cell_type": "code",
   "execution_count": null,
   "metadata": {},
   "outputs": [],
   "source": [
    "min_index = table_min.idxmin()\n",
    "min_index_df = min_index.to_frame()"
   ]
  },
  {
   "cell_type": "code",
   "execution_count": null,
   "metadata": {},
   "outputs": [],
   "source": [
    "min_temp = table_min.min()\n",
    "min_temp_df = min_temp.to_frame()"
   ]
  },
  {
   "cell_type": "code",
   "execution_count": null,
   "metadata": {},
   "outputs": [],
   "source": [
    "result_min = pd.concat([min_index_df, min_temp_df], axis=1)\n",
    "result_min['Group'] = 'Min'\n",
    "result_min.columns = ['id', 'temp', 'Group']\n",
    "result_min"
   ]
  },
  {
   "cell_type": "code",
   "execution_count": null,
   "metadata": {},
   "outputs": [],
   "source": [
    "result_max = result_max.reset_index()\n",
    "result_min = result_min.reset_index()\n",
    "\n",
    "frames = [result_max, result_min]\n",
    "\n",
    "final_result = pd.concat(frames, keys=['year','Group'])\n",
    "final_result\n"
   ]
  },
  {
   "cell_type": "code",
   "execution_count": null,
   "metadata": {},
   "outputs": [],
   "source": [
    "final_result.dtypes"
   ]
  },
  {
   "cell_type": "code",
   "execution_count": null,
   "metadata": {},
   "outputs": [],
   "source": [
    "plt.figure(figsize = (50,8))\n",
    "g = sns.catplot(x='Group', y='temp', col='year', \n",
    "                kind='bar', hue='id',\n",
    "                col_wrap=4, data=final_result, height=5, palette = \"Paired\", dodge=False)\n",
    "\n",
    "(g.set_axis_labels(\"\", \"Temp\")\n",
    "  .set_xticklabels([\"Max\", \"Min\"])\n",
    "  .despine(left=True))  \n",
    "\n",
    "plt.show()\n",
    "\n",
    "plt.savefig('task04.png', dpi=300)\n"
   ]
  },
  {
   "cell_type": "code",
   "execution_count": null,
   "metadata": {},
   "outputs": [],
   "source": []
  }
 ],
 "metadata": {
  "kernelspec": {
   "display_name": "Python 3",
   "language": "python",
   "name": "python3"
  },
  "language_info": {
   "codemirror_mode": {
    "name": "ipython",
    "version": 3
   },
   "file_extension": ".py",
   "mimetype": "text/x-python",
   "name": "python",
   "nbconvert_exporter": "python",
   "pygments_lexer": "ipython3",
   "version": "3.7.8"
  }
 },
 "nbformat": 4,
 "nbformat_minor": 4
}